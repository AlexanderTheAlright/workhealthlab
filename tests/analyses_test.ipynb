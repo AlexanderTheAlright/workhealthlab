{
 "cells": [
  {
   "cell_type": "code",
   "id": "initial_id",
   "metadata": {
    "execution": {
     "iopub.execute_input": "2025-10-15T15:46:45.308363Z",
     "iopub.status.busy": "2025-10-15T15:46:45.308089Z",
     "iopub.status.idle": "2025-10-15T15:46:45.790724Z",
     "shell.execute_reply": "2025-10-15T15:46:45.790263Z"
    },
    "ExecuteTime": {
     "end_time": "2025-10-15T16:12:39.450628Z",
     "start_time": "2025-10-15T16:12:39.137889Z"
    }
   },
   "source": [
    "import os\n",
    "import sys\n",
    "import pandas as pd\n",
    "import numpy as np\n",
    "from pathlib import Path\n",
    "\n",
    "# Locate and add the package root\n",
    "cwd = Path.cwd().resolve()\n",
    "for parent in [cwd, *cwd.parents]:\n",
    "    if (parent / \"sociopathit\").exists():\n",
    "        ROOT = parent\n",
    "        break\n",
    "else:\n",
    "    raise FileNotFoundError(\"Could not locate the sociopathit package root.\")\n",
    "\n",
    "# Add to sys.path for imports\n",
    "if str(ROOT) not in sys.path:\n",
    "    sys.path.insert(0, str(ROOT))\n",
    "\n",
    "print(f\"Added to sys.path: {ROOT}\")"
   ],
   "outputs": [
    {
     "name": "stdout",
     "output_type": "stream",
     "text": [
      "Added to sys.path: C:\\Users\\alecw\\OneDrive - University of Toronto\\Directives\\GITTYSBURG\\sociopathit\n"
     ]
    }
   ],
   "execution_count": 1
  },
  {
   "cell_type": "markdown",
   "id": "section1",
   "metadata": {},
   "source": [
    "# Regression Models"
   ]
  },
  {
   "cell_type": "code",
   "id": "regress1",
   "metadata": {
    "execution": {
     "iopub.execute_input": "2025-10-15T15:46:45.792818Z",
     "iopub.status.busy": "2025-10-15T15:46:45.792552Z",
     "iopub.status.idle": "2025-10-15T15:46:46.947770Z",
     "shell.execute_reply": "2025-10-15T15:46:46.946592Z"
    },
    "ExecuteTime": {
     "end_time": "2025-10-15T16:12:42.674362Z",
     "start_time": "2025-10-15T16:12:41.959289Z"
    }
   },
   "source": [
    "import importlib\n",
    "from sociopathit.analyses import regress as regress_module\n",
    "\n",
    "importlib.reload(regress_module)\n",
    "from sociopathit.analyses.regress import ols, logit, poisson, RegressionModel, compare_models\n",
    "\n",
    "# Simulate data for regression\n",
    "np.random.seed(42)\n",
    "n = 200\n",
    "df_regress = pd.DataFrame({\n",
    "    'age': np.random.normal(45, 15, n),\n",
    "    'income': np.random.normal(50000, 20000, n),\n",
    "    'education': np.random.choice([12, 14, 16, 18], n),\n",
    "    'satisfaction': np.random.normal(7, 2, n),\n",
    "    'employed': np.random.choice([0, 1], n, p=[0.2, 0.8]),\n",
    "    'count_events': np.random.poisson(3, n),\n",
    "    'weight': np.random.uniform(0.5, 1.5, n)\n",
    "})\n",
    "\n",
    "# Make satisfaction related to predictors\n",
    "df_regress['satisfaction'] = (\n",
    "    5 + \n",
    "    0.03 * df_regress['age'] + \n",
    "    0.00002 * df_regress['income'] + \n",
    "    0.2 * df_regress['education'] +\n",
    "    np.random.normal(0, 1, n)\n",
    ")\n",
    "\n",
    "print(df_regress.head())\n",
    "print(f\"\\nData shape: {df_regress.shape}\")"
   ],
   "outputs": [
    {
     "name": "stdout",
     "output_type": "stream",
     "text": [
      "         age        income  education  satisfaction  employed  count_events  \\\n",
      "0  52.450712  57155.747207         16     10.270672         1             2   \n",
      "1  42.926035  61215.690527         16      9.912903         1             1   \n",
      "2  54.715328  71661.024864         12      9.991937         1             0   \n",
      "3  67.845448  71076.041041         12      9.903556         1             4   \n",
      "4  41.487699  22446.612641         18     10.416234         1             3   \n",
      "\n",
      "     weight  \n",
      "0  1.484670  \n",
      "1  1.437388  \n",
      "2  0.543174  \n",
      "3  0.664815  \n",
      "4  0.631729  \n",
      "\n",
      "Data shape: (200, 7)\n"
     ]
    }
   ],
   "execution_count": 2
  },
  {
   "cell_type": "code",
   "id": "regress2",
   "metadata": {
    "execution": {
     "iopub.execute_input": "2025-10-15T15:46:46.952230Z",
     "iopub.status.busy": "2025-10-15T15:46:46.951751Z",
     "iopub.status.idle": "2025-10-15T15:46:46.978546Z",
     "shell.execute_reply": "2025-10-15T15:46:46.977502Z"
    },
    "ExecuteTime": {
     "end_time": "2025-10-15T16:12:45.881634Z",
     "start_time": "2025-10-15T16:12:45.869206Z"
    }
   },
   "source": [
    "# Test 1: OLS Regression\n",
    "print(\"=\" * 60)\n",
    "print(\"TEST 1: OLS Regression\")\n",
    "print(\"=\" * 60)\n",
    "\n",
    "model1 = ols(\n",
    "    df=df_regress,\n",
    "    outcome='satisfaction',\n",
    "    inputs=['age', 'income', 'education'],\n",
    "    robust=True\n",
    ")\n",
    "\n",
    "print(\"\\nModel Summary:\")\n",
    "print(model1.summary())\n",
    "\n",
    "print(\"\\nTidy Results:\")\n",
    "print(model1.get_tidy())\n",
    "\n",
    "print(\"\\nModel Statistics:\")\n",
    "print(model1.get_stats())"
   ],
   "outputs": [
    {
     "name": "stdout",
     "output_type": "stream",
     "text": [
      "============================================================\n",
      "TEST 1: OLS Regression\n",
      "============================================================\n",
      "\n",
      "Model Summary:\n",
      "                            OLS Regression Results                            \n",
      "==============================================================================\n",
      "Dep. Variable:           satisfaction   R-squared:                       0.343\n",
      "Model:                            OLS   Adj. R-squared:                  0.332\n",
      "Method:                 Least Squares   F-statistic:                     43.58\n",
      "Date:                Wed, 15 Oct 2025   Prob (F-statistic):           1.27e-21\n",
      "Time:                        12:12:45   Log-Likelihood:                -272.29\n",
      "No. Observations:                 200   AIC:                             552.6\n",
      "Df Residuals:                     196   BIC:                             565.8\n",
      "Df Model:                           3                                         \n",
      "Covariance Type:                  HC1                                         \n",
      "==============================================================================\n",
      "                 coef    std err          z      P>|z|      [0.025      0.975]\n",
      "------------------------------------------------------------------------------\n",
      "const          5.2328      0.489     10.691      0.000       4.273       6.192\n",
      "age            0.0281      0.005      5.456      0.000       0.018       0.038\n",
      "income      1.422e-05   3.45e-06      4.126      0.000    7.47e-06     2.1e-05\n",
      "education      0.2180      0.030      7.204      0.000       0.159       0.277\n",
      "==============================================================================\n",
      "Omnibus:                        1.462   Durbin-Watson:                   2.111\n",
      "Prob(Omnibus):                  0.481   Jarque-Bera (JB):                1.102\n",
      "Skew:                           0.117   Prob(JB):                        0.576\n",
      "Kurtosis:                       3.279   Cond. No.                     4.48e+05\n",
      "==============================================================================\n",
      "\n",
      "Notes:\n",
      "[1] Standard Errors are heteroscedasticity robust (HC1)\n",
      "[2] The condition number is large, 4.48e+05. This might indicate that there are\n",
      "strong multicollinearity or other numerical problems.\n",
      "\n",
      "Tidy Results:\n",
      "        term  estimate  std.error  statistic       p.value  conf.low  \\\n",
      "0      const  5.232790   0.489478  10.690550  1.127011e-26  4.273430   \n",
      "1        age  0.028139   0.005157   5.456454  4.857376e-08  0.018031   \n",
      "2     income  0.000014   0.000003   4.126085  3.689909e-05  0.000007   \n",
      "3  education  0.218017   0.030265   7.203650  5.862174e-13  0.158699   \n",
      "\n",
      "   conf.high  \n",
      "0   6.192149  \n",
      "1   0.038246  \n",
      "2   0.000021  \n",
      "3   0.277335  \n",
      "\n",
      "Model Statistics:\n",
      "{'N': 200, 'AIC': np.float64(552.580029868998), 'BIC': np.float64(565.7732993351902), 'Log-Likelihood': np.float64(-272.290014934499), 'R_squared': np.float64(0.34252933263973473), 'Adj_R_squared': np.float64(0.3324660060985062)}\n"
     ]
    }
   ],
   "execution_count": 3
  },
  {
   "cell_type": "code",
   "id": "regress3",
   "metadata": {
    "execution": {
     "iopub.execute_input": "2025-10-15T15:46:46.981821Z",
     "iopub.status.busy": "2025-10-15T15:46:46.981576Z",
     "iopub.status.idle": "2025-10-15T15:46:46.993600Z",
     "shell.execute_reply": "2025-10-15T15:46:46.993065Z"
    },
    "ExecuteTime": {
     "end_time": "2025-10-15T16:13:20.123901Z",
     "start_time": "2025-10-15T16:13:20.113619Z"
    }
   },
   "source": [
    "# Test 2: Weighted OLS Regression\n",
    "print(\"=\" * 60)\n",
    "print(\"TEST 2: Weighted OLS Regression\")\n",
    "print(\"=\" * 60)\n",
    "\n",
    "model2 = ols(\n",
    "    df=df_regress,\n",
    "    outcome='satisfaction',\n",
    "    inputs=['age', 'income', 'education'],\n",
    "    weight='weight',\n",
    "    robust=True\n",
    ")\n",
    "\n",
    "print(\"\\nTidy Results (Weighted):\")\n",
    "print(model2.get_tidy())"
   ],
   "outputs": [
    {
     "name": "stdout",
     "output_type": "stream",
     "text": [
      "============================================================\n",
      "TEST 2: Weighted OLS Regression\n",
      "============================================================\n",
      "\n",
      "Tidy Results (Weighted):\n",
      "        term  estimate  std.error  statistic       p.value  conf.low  \\\n",
      "0      const  5.165550   0.550893   9.376689  6.807718e-21  4.085820   \n",
      "1        age  0.027861   0.005502   5.063826  4.109257e-07  0.017078   \n",
      "2     income  0.000015   0.000004   3.976676  6.988537e-05  0.000008   \n",
      "3  education  0.219408   0.033506   6.548376  5.816620e-11  0.153738   \n",
      "\n",
      "   conf.high  \n",
      "0   6.245280  \n",
      "1   0.038645  \n",
      "2   0.000022  \n",
      "3   0.285078  \n"
     ]
    }
   ],
   "execution_count": 4
  },
  {
   "cell_type": "code",
   "id": "regress4",
   "metadata": {
    "execution": {
     "iopub.execute_input": "2025-10-15T15:46:46.997423Z",
     "iopub.status.busy": "2025-10-15T15:46:46.996847Z",
     "iopub.status.idle": "2025-10-15T15:46:47.058932Z",
     "shell.execute_reply": "2025-10-15T15:46:47.058410Z"
    },
    "ExecuteTime": {
     "end_time": "2025-10-15T16:13:32.351298Z",
     "start_time": "2025-10-15T16:13:32.327857Z"
    }
   },
   "source": [
    "# Test 3: Logistic Regression\n",
    "print(\"=\" * 60)\n",
    "print(\"TEST 3: Logistic Regression\")\n",
    "print(\"=\" * 60)\n",
    "\n",
    "model3 = logit(\n",
    "    df=df_regress,\n",
    "    outcome='employed',\n",
    "    inputs=['age', 'education'],\n",
    "    robust=True\n",
    ")\n",
    "\n",
    "print(\"\\nLogistic Regression Results:\")\n",
    "print(model3.get_tidy())\n",
    "\n",
    "print(\"\\nModel Statistics:\")\n",
    "print(model3.get_stats())"
   ],
   "outputs": [
    {
     "name": "stdout",
     "output_type": "stream",
     "text": [
      "============================================================\n",
      "TEST 3: Logistic Regression\n",
      "============================================================\n",
      "Optimization terminated successfully.\n",
      "         Current function value: 0.495807\n",
      "         Iterations 5\n",
      "\n",
      "Logistic Regression Results:\n",
      "        term  estimate  std.error  statistic   p.value  conf.low  conf.high\n",
      "0      const  0.949878   1.411842   0.672793  0.501079 -1.817283   3.717038\n",
      "1        age -0.013852   0.012969  -1.068082  0.285483 -0.039271   0.011567\n",
      "2  education  0.072462   0.086165   0.840969  0.400366 -0.096418   0.241342\n",
      "\n",
      "Model Statistics:\n",
      "{'N': 200, 'AIC': np.float64(204.3227910665525), 'BIC': np.float64(214.2177431661966), 'Log-Likelihood': np.float64(-99.16139553327625), 'Pseudo_R_squared': np.float64(0.009183500482258689)}\n"
     ]
    }
   ],
   "execution_count": 5
  },
  {
   "cell_type": "code",
   "id": "regress5",
   "metadata": {
    "execution": {
     "iopub.execute_input": "2025-10-15T15:46:47.061292Z",
     "iopub.status.busy": "2025-10-15T15:46:47.060994Z",
     "iopub.status.idle": "2025-10-15T15:46:47.082367Z",
     "shell.execute_reply": "2025-10-15T15:46:47.081388Z"
    },
    "ExecuteTime": {
     "end_time": "2025-10-15T16:13:49.877898Z",
     "start_time": "2025-10-15T16:13:49.867751Z"
    }
   },
   "source": [
    "# Test 4: Poisson Regression\n",
    "print(\"=\" * 60)\n",
    "print(\"TEST 4: Poisson Regression\")\n",
    "print(\"=\" * 60)\n",
    "\n",
    "model4 = poisson(\n",
    "    df=df_regress,\n",
    "    outcome='count_events',\n",
    "    inputs=['age', 'income'],\n",
    "    robust=True\n",
    ")\n",
    "\n",
    "print(\"\\nPoisson Regression Results:\")\n",
    "print(model4.get_tidy())"
   ],
   "outputs": [
    {
     "name": "stdout",
     "output_type": "stream",
     "text": [
      "============================================================\n",
      "TEST 4: Poisson Regression\n",
      "============================================================\n",
      "Warning: Maximum number of iterations has been exceeded.\n",
      "         Current function value: 149651730807018435982530780671770624000.000000\n",
      "         Iterations: 35\n",
      "\n",
      "Poisson Regression Results:\n",
      "     term   estimate     std.error     statistic   p.value      conf.low  \\\n",
      "0   const -32.962559  1.658551e+07 -1.987431e-06  0.999998 -3.250703e+07   \n",
      "1     age  -0.005334  1.996745e+05 -2.671477e-08  1.000000 -3.913549e+05   \n",
      "2  income   0.000995  4.396441e+01  2.263666e-05  0.999982 -8.616766e+01   \n",
      "\n",
      "      conf.high  \n",
      "0  3.250696e+07  \n",
      "1  3.913549e+05  \n",
      "2  8.616965e+01  \n"
     ]
    }
   ],
   "execution_count": 6
  },
  {
   "cell_type": "code",
   "id": "regress6",
   "metadata": {
    "execution": {
     "iopub.execute_input": "2025-10-15T15:46:47.086572Z",
     "iopub.status.busy": "2025-10-15T15:46:47.086149Z",
     "iopub.status.idle": "2025-10-15T15:46:47.108466Z",
     "shell.execute_reply": "2025-10-15T15:46:47.107823Z"
    },
    "ExecuteTime": {
     "end_time": "2025-10-15T16:14:01.344628Z",
     "start_time": "2025-10-15T16:14:01.332406Z"
    }
   },
   "source": [
    "# Test 5: Model Comparison\n",
    "print(\"=\" * 60)\n",
    "print(\"TEST 5: Model Comparison\")\n",
    "print(\"=\" * 60)\n",
    "\n",
    "# Create two models with different specifications\n",
    "model_simple = ols(df_regress, 'satisfaction', 'age')\n",
    "model_full = ols(df_regress, 'satisfaction', ['age', 'income', 'education'])\n",
    "\n",
    "comparison = compare_models(model_simple, model_full)\n",
    "print(\"\\nModel Comparison:\")\n",
    "print(comparison)"
   ],
   "outputs": [
    {
     "name": "stdout",
     "output_type": "stream",
     "text": [
      "============================================================\n",
      "TEST 5: Model Comparison\n",
      "============================================================\n",
      "\n",
      "Model Comparison:\n",
      "     Model                  Inputs    N         AIC         BIC  \\\n",
      "0  Model 1                     age  200  601.672931  608.269566   \n",
      "1  Model 2  age, income, education  200  552.580030  565.773299   \n",
      "\n",
      "   Log-Likelihood  R_squared  Adj_R_squared  \n",
      "0     -298.836465   0.142634       0.138304  \n",
      "1     -272.290015   0.342529       0.332466  \n"
     ]
    }
   ],
   "execution_count": 7
  },
  {
   "cell_type": "code",
   "id": "regress7",
   "metadata": {
    "execution": {
     "iopub.execute_input": "2025-10-15T15:46:47.111180Z",
     "iopub.status.busy": "2025-10-15T15:46:47.110798Z",
     "iopub.status.idle": "2025-10-15T15:46:47.118482Z",
     "shell.execute_reply": "2025-10-15T15:46:47.117902Z"
    },
    "ExecuteTime": {
     "end_time": "2025-10-15T16:14:04.773597Z",
     "start_time": "2025-10-15T16:14:04.767198Z"
    }
   },
   "source": [
    "# Test 6: Predictions\n",
    "print(\"=\" * 60)\n",
    "print(\"TEST 6: Predictions\")\n",
    "print(\"=\" * 60)\n",
    "\n",
    "predictions = model1.predict()\n",
    "print(f\"\\nPredicted values (first 10): {predictions[:10]}\")\n",
    "\n",
    "# New data predictions\n",
    "new_data = pd.DataFrame({\n",
    "    'age': [30, 40, 50],\n",
    "    'income': [40000, 50000, 60000],\n",
    "    'education': [16, 16, 18]\n",
    "})\n",
    "new_predictions = model1.predict(new_data)\n",
    "print(f\"\\nPredictions for new data: {new_predictions}\")"
   ],
   "outputs": [
    {
     "name": "stdout",
     "output_type": "stream",
     "text": [
      "============================================================\n",
      "TEST 6: Predictions\n",
      "============================================================\n",
      "\n",
      "Predicted values (first 10): 0    11.009774\n",
      "1    10.799499\n",
      "2    10.407709\n",
      "3    10.768853\n",
      "4    10.643722\n",
      "5    10.332796\n",
      "6    11.075364\n",
      "7    11.604443\n",
      "8     9.774625\n",
      "9    11.151095\n",
      "dtype: float64\n",
      "\n",
      "Predictions for new data: 0    10.134068\n",
      "1    10.557665\n",
      "2    11.417297\n",
      "dtype: float64\n"
     ]
    }
   ],
   "execution_count": 8
  },
  {
   "cell_type": "code",
   "id": "regress8",
   "metadata": {
    "execution": {
     "iopub.execute_input": "2025-10-15T15:46:47.120795Z",
     "iopub.status.busy": "2025-10-15T15:46:47.120543Z",
     "iopub.status.idle": "2025-10-15T15:46:47.137482Z",
     "shell.execute_reply": "2025-10-15T15:46:47.136556Z"
    },
    "ExecuteTime": {
     "end_time": "2025-10-15T16:14:11.235084Z",
     "start_time": "2025-10-15T16:14:11.227024Z"
    }
   },
   "source": [
    "# Test 7: VIF (Multicollinearity Check)\n",
    "print(\"=\" * 60)\n",
    "print(\"TEST 7: Variance Inflation Factors\")\n",
    "print(\"=\" * 60)\n",
    "\n",
    "vif_results = model1.vif()\n",
    "print(\"\\nVIF Values:\")\n",
    "print(vif_results)\n",
    "print(\"\\nNote: VIF > 10 indicates potential multicollinearity\")"
   ],
   "outputs": [
    {
     "name": "stdout",
     "output_type": "stream",
     "text": [
      "============================================================\n",
      "TEST 7: Variance Inflation Factors\n",
      "============================================================\n",
      "\n",
      "VIF Values:\n",
      "    Variable       VIF\n",
      "1        age  1.012199\n",
      "2     income  1.020473\n",
      "3  education  1.013279\n",
      "\n",
      "Note: VIF > 10 indicates potential multicollinearity\n"
     ]
    }
   ],
   "execution_count": 9
  },
  {
   "cell_type": "markdown",
   "id": "section2",
   "metadata": {},
   "source": [
    "# Publication Tables"
   ]
  },
  {
   "cell_type": "code",
   "id": "pubtable1",
   "metadata": {
    "execution": {
     "iopub.execute_input": "2025-10-15T15:46:47.141744Z",
     "iopub.status.busy": "2025-10-15T15:46:47.141293Z",
     "iopub.status.idle": "2025-10-15T15:46:47.173400Z",
     "shell.execute_reply": "2025-10-15T15:46:47.172528Z"
    },
    "ExecuteTime": {
     "end_time": "2025-10-15T16:14:13.533980Z",
     "start_time": "2025-10-15T16:14:13.516798Z"
    }
   },
   "source": [
    "import importlib\n",
    "from sociopathit.analyses import pubtable as pubtable_module\n",
    "from IPython.display import HTML, display\n",
    "\n",
    "importlib.reload(pubtable_module)\n",
    "from sociopathit.analyses.pubtable import (\n",
    "    proportion_table, \n",
    "    descriptive_table, \n",
    "    regression_table,\n",
    "    save_table\n",
    ")\n",
    "\n",
    "# Simulate survey data\n",
    "np.random.seed(42)\n",
    "n = 300\n",
    "df_survey = pd.DataFrame({\n",
    "    'gender': np.random.choice(['Male', 'Female'], n),\n",
    "    'education': np.random.choice(['High School', 'Bachelor', 'Graduate'], n),\n",
    "    'response': np.random.choice(['Yes', 'No', 'Maybe'], n, p=[0.4, 0.4, 0.2]),\n",
    "    'age': np.random.normal(40, 15, n),\n",
    "    'income': np.random.normal(55000, 25000, n),\n",
    "    'satisfaction': np.random.normal(7, 2, n),\n",
    "    'weight': np.random.uniform(0.8, 1.2, n)\n",
    "})\n",
    "\n",
    "print(df_survey.head())\n",
    "print(f\"\\nData shape: {df_survey.shape}\")"
   ],
   "outputs": [
    {
     "name": "stdout",
     "output_type": "stream",
     "text": [
      "   gender    education response        age         income  satisfaction  \\\n",
      "0    Male  High School       No  30.743644  106059.910568      7.746792   \n",
      "1  Female  High School    Maybe  21.117369   67129.377631      8.014032   \n",
      "2    Male     Graduate       No  57.832015   58632.405994      7.396579   \n",
      "3    Male     Bachelor      Yes  39.380374   97839.349771      6.480788   \n",
      "4    Male     Bachelor      Yes  42.609495   80253.424981      7.361291   \n",
      "\n",
      "     weight  \n",
      "0  1.190396  \n",
      "1  1.066940  \n",
      "2  0.804171  \n",
      "3  0.902165  \n",
      "4  0.904285  \n",
      "\n",
      "Data shape: (300, 7)\n"
     ]
    }
   ],
   "execution_count": 10
  },
  {
   "cell_type": "code",
   "id": "pubtable2",
   "metadata": {
    "execution": {
     "iopub.execute_input": "2025-10-15T15:46:47.176304Z",
     "iopub.status.busy": "2025-10-15T15:46:47.175697Z",
     "iopub.status.idle": "2025-10-15T15:46:47.187816Z",
     "shell.execute_reply": "2025-10-15T15:46:47.187231Z"
    },
    "ExecuteTime": {
     "end_time": "2025-10-15T16:14:25.965458Z",
     "start_time": "2025-10-15T16:14:25.952320Z"
    }
   },
   "source": [
    "# Test 1: Proportion Table (One-way)\n",
    "print(\"=\" * 60)\n",
    "print(\"TEST 1: One-Way Proportion Table\")\n",
    "print(\"=\" * 60)\n",
    "\n",
    "html1 = proportion_table(\n",
    "    df=df_survey,\n",
    "    row_var='response',\n",
    "    title='Distribution of Responses',\n",
    "    ci=True,\n",
    "    show_n=True\n",
    ")\n",
    "\n",
    "display(HTML(html1))"
   ],
   "outputs": [
    {
     "name": "stdout",
     "output_type": "stream",
     "text": [
      "============================================================\n",
      "TEST 1: One-Way Proportion Table\n",
      "============================================================\n"
     ]
    },
    {
     "data": {
      "text/plain": [
       "<IPython.core.display.HTML object>"
      ],
      "text/html": [
       "\n",
       "    <style>\n",
       "        .pubtable {\n",
       "            font-family: 'Times New Roman', Times, serif;\n",
       "            border-collapse: collapse;\n",
       "            margin: 20px auto;\n",
       "            font-size: 11pt;\n",
       "            width: auto;\n",
       "            max-width: 100%;\n",
       "        }\n",
       "        .pubtable th {\n",
       "            border-top: 2px solid #000;\n",
       "            border-bottom: 1px solid #000;\n",
       "            padding: 8px 12px;\n",
       "            text-align: left;\n",
       "            font-weight: bold;\n",
       "        }\n",
       "        .pubtable td {\n",
       "            padding: 6px 12px;\n",
       "            text-align: left;\n",
       "        }\n",
       "        .pubtable tbody tr:last-child td {\n",
       "            border-bottom: 2px solid #000;\n",
       "        }\n",
       "        .pubtable .number {\n",
       "            text-align: right;\n",
       "            font-feature-settings: 'tnum';\n",
       "        }\n",
       "        .pubtable caption {\n",
       "            caption-side: top;\n",
       "            text-align: left;\n",
       "            font-weight: bold;\n",
       "            padding-bottom: 10px;\n",
       "            font-size: 12pt;\n",
       "        }\n",
       "        .pubtable .note {\n",
       "            font-size: 9pt;\n",
       "            font-style: italic;\n",
       "            padding-top: 5px;\n",
       "            border-top: none;\n",
       "        }\n",
       "        .pubtable .indent {\n",
       "            padding-left: 24px;\n",
       "        }\n",
       "    </style>\n",
       "    <table class=\"pubtable\"><caption>Distribution of Responses</caption><thead><tr><th class=\"\">response</th><th class=\"number\">%</th><th class=\"number\">95% CI</th><th class=\"number\">n</th></tr></thead><tbody><tr><td class=\"\">Maybe</td><td class=\"number\">18.0</td><td class=\"number\">[10.0, 30.3]</td><td class=\"number\">54</td></tr><tr><td class=\"\">No</td><td class=\"number\">42.0</td><td class=\"number\">[33.7, 50.7]</td><td class=\"number\">126</td></tr><tr><td class=\"\">Yes</td><td class=\"number\">40.0</td><td class=\"number\">[31.7, 48.9]</td><td class=\"number\">120</td></tr></tbody></table><p class=\"note\" style=\"margin-left: 20px; font-size: 9pt; font-style: italic;\">Note: 95% confidence intervals shown.</p>"
      ]
     },
     "metadata": {},
     "output_type": "display_data"
    }
   ],
   "execution_count": 11
  },
  {
   "cell_type": "code",
   "id": "pubtable3",
   "metadata": {
    "execution": {
     "iopub.execute_input": "2025-10-15T15:46:47.190468Z",
     "iopub.status.busy": "2025-10-15T15:46:47.189974Z",
     "iopub.status.idle": "2025-10-15T15:46:47.205840Z",
     "shell.execute_reply": "2025-10-15T15:46:47.205280Z"
    },
    "ExecuteTime": {
     "end_time": "2025-10-15T16:14:34.728440Z",
     "start_time": "2025-10-15T16:14:34.718544Z"
    }
   },
   "source": [
    "# Test 2: Proportion Table (Cross-tabulation)\n",
    "print(\"=\" * 60)\n",
    "print(\"TEST 2: Cross-Tabulation Proportion Table\")\n",
    "print(\"=\" * 60)\n",
    "\n",
    "html2 = proportion_table(\n",
    "    df=df_survey,\n",
    "    row_var='response',\n",
    "    col_var='gender',\n",
    "    title='Response by Gender',\n",
    "    decimals=1\n",
    ")\n",
    "\n",
    "display(HTML(html2))"
   ],
   "outputs": [
    {
     "name": "stdout",
     "output_type": "stream",
     "text": [
      "============================================================\n",
      "TEST 2: Cross-Tabulation Proportion Table\n",
      "============================================================\n"
     ]
    },
    {
     "data": {
      "text/plain": [
       "<IPython.core.display.HTML object>"
      ],
      "text/html": [
       "\n",
       "    <style>\n",
       "        .pubtable {\n",
       "            font-family: 'Times New Roman', Times, serif;\n",
       "            border-collapse: collapse;\n",
       "            margin: 20px auto;\n",
       "            font-size: 11pt;\n",
       "            width: auto;\n",
       "            max-width: 100%;\n",
       "        }\n",
       "        .pubtable th {\n",
       "            border-top: 2px solid #000;\n",
       "            border-bottom: 1px solid #000;\n",
       "            padding: 8px 12px;\n",
       "            text-align: left;\n",
       "            font-weight: bold;\n",
       "        }\n",
       "        .pubtable td {\n",
       "            padding: 6px 12px;\n",
       "            text-align: left;\n",
       "        }\n",
       "        .pubtable tbody tr:last-child td {\n",
       "            border-bottom: 2px solid #000;\n",
       "        }\n",
       "        .pubtable .number {\n",
       "            text-align: right;\n",
       "            font-feature-settings: 'tnum';\n",
       "        }\n",
       "        .pubtable caption {\n",
       "            caption-side: top;\n",
       "            text-align: left;\n",
       "            font-weight: bold;\n",
       "            padding-bottom: 10px;\n",
       "            font-size: 12pt;\n",
       "        }\n",
       "        .pubtable .note {\n",
       "            font-size: 9pt;\n",
       "            font-style: italic;\n",
       "            padding-top: 5px;\n",
       "            border-top: none;\n",
       "        }\n",
       "        .pubtable .indent {\n",
       "            padding-left: 24px;\n",
       "        }\n",
       "    </style>\n",
       "    <table class=\"pubtable\"><caption>Response by Gender</caption><thead><tr><th class=\"\">response</th><th class=\"number\">Female</th><th class=\"number\">Male</th></tr></thead><tbody><tr><td class=\"\">Maybe</td><td class=\"number\">20.8</td><td class=\"number\">15.2</td></tr><tr><td class=\"\">No</td><td class=\"number\">38.9</td><td class=\"number\">45.0</td></tr><tr><td class=\"\">Yes</td><td class=\"number\">40.3</td><td class=\"number\">39.7</td></tr></tbody></table><p class=\"note\" style=\"margin-left: 20px; font-size: 9pt; font-style: italic;\">Note: 95% confidence intervals shown.</p>"
      ]
     },
     "metadata": {},
     "output_type": "display_data"
    }
   ],
   "execution_count": 12
  },
  {
   "cell_type": "code",
   "id": "pubtable4",
   "metadata": {
    "execution": {
     "iopub.execute_input": "2025-10-15T15:46:47.208677Z",
     "iopub.status.busy": "2025-10-15T15:46:47.208450Z",
     "iopub.status.idle": "2025-10-15T15:46:47.218890Z",
     "shell.execute_reply": "2025-10-15T15:46:47.218292Z"
    },
    "ExecuteTime": {
     "end_time": "2025-10-15T16:14:39.711476Z",
     "start_time": "2025-10-15T16:14:39.699550Z"
    }
   },
   "source": [
    "# Test 3: Weighted Proportion Table\n",
    "print(\"=\" * 60)\n",
    "print(\"TEST 3: Weighted Proportion Table\")\n",
    "print(\"=\" * 60)\n",
    "\n",
    "html3 = proportion_table(\n",
    "    df=df_survey,\n",
    "    row_var='education',\n",
    "    weight_var='weight',\n",
    "    title='Education Distribution (Weighted)',\n",
    "    ci=True,\n",
    "    show_n=True\n",
    ")\n",
    "\n",
    "display(HTML(html3))"
   ],
   "outputs": [
    {
     "name": "stdout",
     "output_type": "stream",
     "text": [
      "============================================================\n",
      "TEST 3: Weighted Proportion Table\n",
      "============================================================\n"
     ]
    },
    {
     "data": {
      "text/plain": [
       "<IPython.core.display.HTML object>"
      ],
      "text/html": [
       "\n",
       "    <style>\n",
       "        .pubtable {\n",
       "            font-family: 'Times New Roman', Times, serif;\n",
       "            border-collapse: collapse;\n",
       "            margin: 20px auto;\n",
       "            font-size: 11pt;\n",
       "            width: auto;\n",
       "            max-width: 100%;\n",
       "        }\n",
       "        .pubtable th {\n",
       "            border-top: 2px solid #000;\n",
       "            border-bottom: 1px solid #000;\n",
       "            padding: 8px 12px;\n",
       "            text-align: left;\n",
       "            font-weight: bold;\n",
       "        }\n",
       "        .pubtable td {\n",
       "            padding: 6px 12px;\n",
       "            text-align: left;\n",
       "        }\n",
       "        .pubtable tbody tr:last-child td {\n",
       "            border-bottom: 2px solid #000;\n",
       "        }\n",
       "        .pubtable .number {\n",
       "            text-align: right;\n",
       "            font-feature-settings: 'tnum';\n",
       "        }\n",
       "        .pubtable caption {\n",
       "            caption-side: top;\n",
       "            text-align: left;\n",
       "            font-weight: bold;\n",
       "            padding-bottom: 10px;\n",
       "            font-size: 12pt;\n",
       "        }\n",
       "        .pubtable .note {\n",
       "            font-size: 9pt;\n",
       "            font-style: italic;\n",
       "            padding-top: 5px;\n",
       "            border-top: none;\n",
       "        }\n",
       "        .pubtable .indent {\n",
       "            padding-left: 24px;\n",
       "        }\n",
       "    </style>\n",
       "    <table class=\"pubtable\"><caption>Education Distribution (Weighted)</caption><thead><tr><th class=\"\">education</th><th class=\"number\">%</th><th class=\"number\">95% CI</th><th class=\"number\">n</th></tr></thead><tbody><tr><td class=\"\">Bachelor</td><td class=\"number\">35.1</td><td class=\"number\">[26.6, 44.7]</td><td class=\"number\">104</td></tr><tr><td class=\"\">Graduate</td><td class=\"number\">31.0</td><td class=\"number\">[22.6, 41.0]</td><td class=\"number\">94</td></tr><tr><td class=\"\">High School</td><td class=\"number\">33.9</td><td class=\"number\">[25.4, 43.5]</td><td class=\"number\">102</td></tr></tbody></table><p class=\"note\" style=\"margin-left: 20px; font-size: 9pt; font-style: italic;\">Note: 95% confidence intervals shown.</p>"
      ]
     },
     "metadata": {},
     "output_type": "display_data"
    }
   ],
   "execution_count": 13
  },
  {
   "cell_type": "code",
   "id": "pubtable5",
   "metadata": {
    "execution": {
     "iopub.execute_input": "2025-10-15T15:46:47.221316Z",
     "iopub.status.busy": "2025-10-15T15:46:47.221015Z",
     "iopub.status.idle": "2025-10-15T15:46:47.230034Z",
     "shell.execute_reply": "2025-10-15T15:46:47.229262Z"
    },
    "ExecuteTime": {
     "end_time": "2025-10-15T16:14:48.858846Z",
     "start_time": "2025-10-15T16:14:48.850502Z"
    }
   },
   "source": [
    "# Test 4: Descriptive Statistics Table\n",
    "print(\"=\" * 60)\n",
    "print(\"TEST 4: Descriptive Statistics Table\")\n",
    "print(\"=\" * 60)\n",
    "\n",
    "html4 = descriptive_table(\n",
    "    df=df_survey,\n",
    "    variables=['age', 'income', 'satisfaction'],\n",
    "    stats=['mean', 'sd', 'min', 'max', 'n'],\n",
    "    decimals=2,\n",
    "    title='Descriptive Statistics',\n",
    "    var_labels={'age': 'Age (years)', 'income': 'Annual Income ($)', 'satisfaction': 'Life Satisfaction'}\n",
    ")\n",
    "\n",
    "display(HTML(html4))"
   ],
   "outputs": [
    {
     "name": "stdout",
     "output_type": "stream",
     "text": [
      "============================================================\n",
      "TEST 4: Descriptive Statistics Table\n",
      "============================================================\n"
     ]
    },
    {
     "data": {
      "text/plain": [
       "<IPython.core.display.HTML object>"
      ],
      "text/html": [
       "\n",
       "    <style>\n",
       "        .pubtable {\n",
       "            font-family: 'Times New Roman', Times, serif;\n",
       "            border-collapse: collapse;\n",
       "            margin: 20px auto;\n",
       "            font-size: 11pt;\n",
       "            width: auto;\n",
       "            max-width: 100%;\n",
       "        }\n",
       "        .pubtable th {\n",
       "            border-top: 2px solid #000;\n",
       "            border-bottom: 1px solid #000;\n",
       "            padding: 8px 12px;\n",
       "            text-align: left;\n",
       "            font-weight: bold;\n",
       "        }\n",
       "        .pubtable td {\n",
       "            padding: 6px 12px;\n",
       "            text-align: left;\n",
       "        }\n",
       "        .pubtable tbody tr:last-child td {\n",
       "            border-bottom: 2px solid #000;\n",
       "        }\n",
       "        .pubtable .number {\n",
       "            text-align: right;\n",
       "            font-feature-settings: 'tnum';\n",
       "        }\n",
       "        .pubtable caption {\n",
       "            caption-side: top;\n",
       "            text-align: left;\n",
       "            font-weight: bold;\n",
       "            padding-bottom: 10px;\n",
       "            font-size: 12pt;\n",
       "        }\n",
       "        .pubtable .note {\n",
       "            font-size: 9pt;\n",
       "            font-style: italic;\n",
       "            padding-top: 5px;\n",
       "            border-top: none;\n",
       "        }\n",
       "        .pubtable .indent {\n",
       "            padding-left: 24px;\n",
       "        }\n",
       "    </style>\n",
       "    <table class=\"pubtable\"><caption>Descriptive Statistics</caption><thead><tr><th class=\"\">Variable</th><th class=\"number\">Mean</th><th class=\"number\">Sd</th><th class=\"number\">Min</th><th class=\"number\">Max</th><th class=\"number\">N</th></tr></thead><tbody><tr><td class=\"\">Age (years)</td><td class=\"number\">41.73</td><td class=\"number\">16.11</td><td class=\"number\">-1.77</td><td class=\"number\">84.64</td><td class=\"number\">300</td></tr><tr><td class=\"\">Annual Income ($)</td><td class=\"number\">57483.38</td><td class=\"number\">26825.21</td><td class=\"number\">-10246.04</td><td class=\"number\">134184.29</td><td class=\"number\">300</td></tr><tr><td class=\"\">Life Satisfaction</td><td class=\"number\">7.08</td><td class=\"number\">2.04</td><td class=\"number\">1.97</td><td class=\"number\">12.40</td><td class=\"number\">300</td></tr></tbody></table>"
      ]
     },
     "metadata": {},
     "output_type": "display_data"
    }
   ],
   "execution_count": 14
  },
  {
   "cell_type": "code",
   "id": "pubtable6",
   "metadata": {
    "execution": {
     "iopub.execute_input": "2025-10-15T15:46:47.232489Z",
     "iopub.status.busy": "2025-10-15T15:46:47.232163Z",
     "iopub.status.idle": "2025-10-15T15:46:47.242867Z",
     "shell.execute_reply": "2025-10-15T15:46:47.242360Z"
    },
    "ExecuteTime": {
     "end_time": "2025-10-15T16:14:55.723892Z",
     "start_time": "2025-10-15T16:14:55.716125Z"
    }
   },
   "source": [
    "# Test 5: Grouped Descriptive Statistics\n",
    "print(\"=\" * 60)\n",
    "print(\"TEST 5: Grouped Descriptive Statistics\")\n",
    "print(\"=\" * 60)\n",
    "\n",
    "html5 = descriptive_table(\n",
    "    df=df_survey,\n",
    "    variables=['age', 'income'],\n",
    "    group_var='gender',\n",
    "    stats=['mean', 'sd', 'n'],\n",
    "    decimals=1,\n",
    "    title='Demographics by Gender'\n",
    ")\n",
    "\n",
    "display(HTML(html5))"
   ],
   "outputs": [
    {
     "name": "stdout",
     "output_type": "stream",
     "text": [
      "============================================================\n",
      "TEST 5: Grouped Descriptive Statistics\n",
      "============================================================\n"
     ]
    },
    {
     "data": {
      "text/plain": [
       "<IPython.core.display.HTML object>"
      ],
      "text/html": [
       "\n",
       "    <style>\n",
       "        .pubtable {\n",
       "            font-family: 'Times New Roman', Times, serif;\n",
       "            border-collapse: collapse;\n",
       "            margin: 20px auto;\n",
       "            font-size: 11pt;\n",
       "            width: auto;\n",
       "            max-width: 100%;\n",
       "        }\n",
       "        .pubtable th {\n",
       "            border-top: 2px solid #000;\n",
       "            border-bottom: 1px solid #000;\n",
       "            padding: 8px 12px;\n",
       "            text-align: left;\n",
       "            font-weight: bold;\n",
       "        }\n",
       "        .pubtable td {\n",
       "            padding: 6px 12px;\n",
       "            text-align: left;\n",
       "        }\n",
       "        .pubtable tbody tr:last-child td {\n",
       "            border-bottom: 2px solid #000;\n",
       "        }\n",
       "        .pubtable .number {\n",
       "            text-align: right;\n",
       "            font-feature-settings: 'tnum';\n",
       "        }\n",
       "        .pubtable caption {\n",
       "            caption-side: top;\n",
       "            text-align: left;\n",
       "            font-weight: bold;\n",
       "            padding-bottom: 10px;\n",
       "            font-size: 12pt;\n",
       "        }\n",
       "        .pubtable .note {\n",
       "            font-size: 9pt;\n",
       "            font-style: italic;\n",
       "            padding-top: 5px;\n",
       "            border-top: none;\n",
       "        }\n",
       "        .pubtable .indent {\n",
       "            padding-left: 24px;\n",
       "        }\n",
       "    </style>\n",
       "    <table class=\"pubtable\"><caption>Demographics by Gender</caption><thead><tr><th class=\"\">Variable</th><th class=\"\">Group</th><th class=\"number\">Mean</th><th class=\"number\">Sd</th><th class=\"number\">N</th></tr></thead><tbody><tr><td class=\"\">age</td><td class=\"\">Female</td><td class=\"number\">42.2</td><td class=\"number\">15.4</td><td class=\"number\">149</td></tr><tr><td class=\" indent\"></td><td class=\"\">Male</td><td class=\"number\">41.2</td><td class=\"number\">16.8</td><td class=\"number\">151</td></tr><tr><td class=\"\">income</td><td class=\"\">Female</td><td class=\"number\">57561.4</td><td class=\"number\">26690.6</td><td class=\"number\">149</td></tr><tr><td class=\" indent\"></td><td class=\"\">Male</td><td class=\"number\">57406.4</td><td class=\"number\">26957.1</td><td class=\"number\">151</td></tr></tbody></table>"
      ]
     },
     "metadata": {},
     "output_type": "display_data"
    }
   ],
   "execution_count": 15
  },
  {
   "cell_type": "code",
   "id": "pubtable7",
   "metadata": {
    "execution": {
     "iopub.execute_input": "2025-10-15T15:46:47.245810Z",
     "iopub.status.busy": "2025-10-15T15:46:47.245473Z",
     "iopub.status.idle": "2025-10-15T15:46:47.256788Z",
     "shell.execute_reply": "2025-10-15T15:46:47.256319Z"
    },
    "ExecuteTime": {
     "end_time": "2025-10-15T16:15:00.187828Z",
     "start_time": "2025-10-15T16:15:00.176279Z"
    }
   },
   "source": [
    "# Test 6: Regression Table (Single Model)\n",
    "print(\"=\" * 60)\n",
    "print(\"TEST 6: Regression Table (Single Model)\")\n",
    "print(\"=\" * 60)\n",
    "\n",
    "# Fit a model\n",
    "model_pub = ols(df_survey, 'satisfaction', ['age', 'income'])\n",
    "results_df = model_pub.get_tidy()\n",
    "\n",
    "html6 = regression_table(\n",
    "    models=results_df,\n",
    "    title='OLS Regression: Life Satisfaction',\n",
    "    show_se=True,\n",
    "    show_stars=True,\n",
    "    var_labels={'age': 'Age', 'income': 'Income', 'const': 'Intercept'},\n",
    "    stats_rows={\n",
    "        'N': [int(model_pub.get_stats()['N'])],\n",
    "        'R_squared': [model_pub.get_stats()['R_squared']]\n",
    "    }\n",
    ")\n",
    "\n",
    "display(HTML(html6))"
   ],
   "outputs": [
    {
     "name": "stdout",
     "output_type": "stream",
     "text": [
      "============================================================\n",
      "TEST 6: Regression Table (Single Model)\n",
      "============================================================\n"
     ]
    },
    {
     "data": {
      "text/plain": [
       "<IPython.core.display.HTML object>"
      ],
      "text/html": [
       "\n",
       "    <style>\n",
       "        .pubtable {\n",
       "            font-family: 'Times New Roman', Times, serif;\n",
       "            border-collapse: collapse;\n",
       "            margin: 20px auto;\n",
       "            font-size: 11pt;\n",
       "            width: auto;\n",
       "            max-width: 100%;\n",
       "        }\n",
       "        .pubtable th {\n",
       "            border-top: 2px solid #000;\n",
       "            border-bottom: 1px solid #000;\n",
       "            padding: 8px 12px;\n",
       "            text-align: left;\n",
       "            font-weight: bold;\n",
       "        }\n",
       "        .pubtable td {\n",
       "            padding: 6px 12px;\n",
       "            text-align: left;\n",
       "        }\n",
       "        .pubtable tbody tr:last-child td {\n",
       "            border-bottom: 2px solid #000;\n",
       "        }\n",
       "        .pubtable .number {\n",
       "            text-align: right;\n",
       "            font-feature-settings: 'tnum';\n",
       "        }\n",
       "        .pubtable caption {\n",
       "            caption-side: top;\n",
       "            text-align: left;\n",
       "            font-weight: bold;\n",
       "            padding-bottom: 10px;\n",
       "            font-size: 12pt;\n",
       "        }\n",
       "        .pubtable .note {\n",
       "            font-size: 9pt;\n",
       "            font-style: italic;\n",
       "            padding-top: 5px;\n",
       "            border-top: none;\n",
       "        }\n",
       "        .pubtable .indent {\n",
       "            padding-left: 24px;\n",
       "        }\n",
       "    </style>\n",
       "    <table class=\"pubtable\"><caption>OLS Regression: Life Satisfaction</caption><thead><tr><th class=\"\"></th><th class=\"number\">Model 1</th></tr></thead><tbody><tr><td class=\"\">Intercept</td><td class=\"number\">7.958***</td></tr><tr><td class=\" indent\"></td><td class=\"number\">(0.406)</td></tr><tr><td class=\"\">Age</td><td class=\"number\">-0.009</td></tr><tr><td class=\" indent\"></td><td class=\"number\">(0.008)</td></tr><tr><td class=\"\">Income</td><td class=\"number\">-0.000*</td></tr><tr><td class=\" indent\"></td><td class=\"number\">(0.000)</td></tr><tr><td class=\"\">N</td><td class=\"number\">300.00</td></tr><tr><td class=\"\">R_squared</td><td class=\"number\">0.02</td></tr></tbody></table><p class=\"note\" style=\"margin-left: 20px; font-size: 9pt; font-style: italic;\">Note: *** p<.001, ** p<.01, * p<.05</p>"
      ]
     },
     "metadata": {},
     "output_type": "display_data"
    }
   ],
   "execution_count": 16
  },
  {
   "cell_type": "code",
   "id": "pubtable8",
   "metadata": {
    "execution": {
     "iopub.execute_input": "2025-10-15T15:46:47.258593Z",
     "iopub.status.busy": "2025-10-15T15:46:47.258388Z",
     "iopub.status.idle": "2025-10-15T15:46:47.275754Z",
     "shell.execute_reply": "2025-10-15T15:46:47.275191Z"
    },
    "ExecuteTime": {
     "end_time": "2025-10-15T16:15:10.241399Z",
     "start_time": "2025-10-15T16:15:10.224095Z"
    }
   },
   "source": [
    "# Test 7: Regression Table (Multiple Models)\n",
    "print(\"=\" * 60)\n",
    "print(\"TEST 7: Regression Table (Multiple Models)\")\n",
    "print(\"=\" * 60)\n",
    "\n",
    "# Fit multiple models\n",
    "model_a = ols(df_survey, 'satisfaction', 'age')\n",
    "model_b = ols(df_survey, 'satisfaction', ['age', 'income'])\n",
    "\n",
    "html7 = regression_table(\n",
    "    models=[model_a.get_tidy(), model_b.get_tidy()],\n",
    "    model_names=['Model 1', 'Model 2'],\n",
    "    title='Regression Models Comparison',\n",
    "    show_se=True,\n",
    "    show_stars=True,\n",
    "    var_labels={'age': 'Age', 'income': 'Income', 'const': 'Intercept'},\n",
    "    stats_rows={\n",
    "        'N': [int(model_a.get_stats()['N']), int(model_b.get_stats()['N'])],\n",
    "        'R_squared': [model_a.get_stats()['R_squared'], model_b.get_stats()['R_squared']]\n",
    "    }\n",
    ")\n",
    "\n",
    "display(HTML(html7))"
   ],
   "outputs": [
    {
     "name": "stdout",
     "output_type": "stream",
     "text": [
      "============================================================\n",
      "TEST 7: Regression Table (Multiple Models)\n",
      "============================================================\n"
     ]
    },
    {
     "data": {
      "text/plain": [
       "<IPython.core.display.HTML object>"
      ],
      "text/html": [
       "\n",
       "    <style>\n",
       "        .pubtable {\n",
       "            font-family: 'Times New Roman', Times, serif;\n",
       "            border-collapse: collapse;\n",
       "            margin: 20px auto;\n",
       "            font-size: 11pt;\n",
       "            width: auto;\n",
       "            max-width: 100%;\n",
       "        }\n",
       "        .pubtable th {\n",
       "            border-top: 2px solid #000;\n",
       "            border-bottom: 1px solid #000;\n",
       "            padding: 8px 12px;\n",
       "            text-align: left;\n",
       "            font-weight: bold;\n",
       "        }\n",
       "        .pubtable td {\n",
       "            padding: 6px 12px;\n",
       "            text-align: left;\n",
       "        }\n",
       "        .pubtable tbody tr:last-child td {\n",
       "            border-bottom: 2px solid #000;\n",
       "        }\n",
       "        .pubtable .number {\n",
       "            text-align: right;\n",
       "            font-feature-settings: 'tnum';\n",
       "        }\n",
       "        .pubtable caption {\n",
       "            caption-side: top;\n",
       "            text-align: left;\n",
       "            font-weight: bold;\n",
       "            padding-bottom: 10px;\n",
       "            font-size: 12pt;\n",
       "        }\n",
       "        .pubtable .note {\n",
       "            font-size: 9pt;\n",
       "            font-style: italic;\n",
       "            padding-top: 5px;\n",
       "            border-top: none;\n",
       "        }\n",
       "        .pubtable .indent {\n",
       "            padding-left: 24px;\n",
       "        }\n",
       "    </style>\n",
       "    <table class=\"pubtable\"><caption>Regression Models Comparison</caption><thead><tr><th class=\"\"></th><th class=\"number\">Model 1</th><th class=\"number\">Model 2</th></tr></thead><tbody><tr><td class=\"\">Intercept</td><td class=\"number\">7.495***</td><td class=\"number\">7.958***</td></tr><tr><td class=\" indent\"></td><td class=\"number\">(0.348)</td><td class=\"number\">(0.406)</td></tr><tr><td class=\"\">Age</td><td class=\"number\">-0.010</td><td class=\"number\">-0.009</td></tr><tr><td class=\" indent\"></td><td class=\"number\">(0.008)</td><td class=\"number\">(0.008)</td></tr><tr><td class=\"\">Income</td><td class=\"number\">\u0014</td><td class=\"number\">-0.000*</td></tr><tr><td class=\" indent\"></td><td class=\"number\"></td><td class=\"number\">(0.000)</td></tr><tr><td class=\"\">N</td><td class=\"number\">300.00</td><td class=\"number\">300.00</td></tr><tr><td class=\"\">R_squared</td><td class=\"number\">0.01</td><td class=\"number\">0.02</td></tr></tbody></table><p class=\"note\" style=\"margin-left: 20px; font-size: 9pt; font-style: italic;\">Note: *** p<.001, ** p<.01, * p<.05</p>"
      ]
     },
     "metadata": {},
     "output_type": "display_data"
    }
   ],
   "execution_count": 17
  },
  {
   "cell_type": "code",
   "id": "pubtable9",
   "metadata": {
    "execution": {
     "iopub.execute_input": "2025-10-15T15:46:47.278109Z",
     "iopub.status.busy": "2025-10-15T15:46:47.277845Z",
     "iopub.status.idle": "2025-10-15T15:46:47.285711Z",
     "shell.execute_reply": "2025-10-15T15:46:47.285196Z"
    },
    "ExecuteTime": {
     "end_time": "2025-10-15T16:15:15.691408Z",
     "start_time": "2025-10-15T16:15:15.682705Z"
    }
   },
   "source": [
    "# Test 8: Regression Table with Confidence Intervals\n",
    "print(\"=\" * 60)\n",
    "print(\"TEST 8: Regression Table with Confidence Intervals\")\n",
    "print(\"=\" * 60)\n",
    "\n",
    "html8 = regression_table(\n",
    "    models=model_pub.get_tidy(),\n",
    "    title='OLS Regression with Confidence Intervals',\n",
    "    show_se=False,\n",
    "    show_ci=True,\n",
    "    show_stars=True,\n",
    "    var_labels={'age': 'Age', 'income': 'Income', 'const': 'Intercept'}\n",
    ")\n",
    "\n",
    "display(HTML(html8))"
   ],
   "outputs": [
    {
     "name": "stdout",
     "output_type": "stream",
     "text": [
      "============================================================\n",
      "TEST 8: Regression Table with Confidence Intervals\n",
      "============================================================\n"
     ]
    },
    {
     "data": {
      "text/plain": [
       "<IPython.core.display.HTML object>"
      ],
      "text/html": [
       "\n",
       "    <style>\n",
       "        .pubtable {\n",
       "            font-family: 'Times New Roman', Times, serif;\n",
       "            border-collapse: collapse;\n",
       "            margin: 20px auto;\n",
       "            font-size: 11pt;\n",
       "            width: auto;\n",
       "            max-width: 100%;\n",
       "        }\n",
       "        .pubtable th {\n",
       "            border-top: 2px solid #000;\n",
       "            border-bottom: 1px solid #000;\n",
       "            padding: 8px 12px;\n",
       "            text-align: left;\n",
       "            font-weight: bold;\n",
       "        }\n",
       "        .pubtable td {\n",
       "            padding: 6px 12px;\n",
       "            text-align: left;\n",
       "        }\n",
       "        .pubtable tbody tr:last-child td {\n",
       "            border-bottom: 2px solid #000;\n",
       "        }\n",
       "        .pubtable .number {\n",
       "            text-align: right;\n",
       "            font-feature-settings: 'tnum';\n",
       "        }\n",
       "        .pubtable caption {\n",
       "            caption-side: top;\n",
       "            text-align: left;\n",
       "            font-weight: bold;\n",
       "            padding-bottom: 10px;\n",
       "            font-size: 12pt;\n",
       "        }\n",
       "        .pubtable .note {\n",
       "            font-size: 9pt;\n",
       "            font-style: italic;\n",
       "            padding-top: 5px;\n",
       "            border-top: none;\n",
       "        }\n",
       "        .pubtable .indent {\n",
       "            padding-left: 24px;\n",
       "        }\n",
       "    </style>\n",
       "    <table class=\"pubtable\"><caption>OLS Regression with Confidence Intervals</caption><thead><tr><th class=\"\"></th><th class=\"number\">Model 1</th></tr></thead><tbody><tr><td class=\"\">Intercept</td><td class=\"number\">7.958***</td></tr><tr><td class=\" indent\"></td><td class=\"number\">[7.162, 8.754]</td></tr><tr><td class=\"\">Age</td><td class=\"number\">-0.009</td></tr><tr><td class=\" indent\"></td><td class=\"number\">[-0.025, 0.006]</td></tr><tr><td class=\"\">Income</td><td class=\"number\">-0.000*</td></tr><tr><td class=\" indent\"></td><td class=\"number\">[-0.000, -0.000]</td></tr></tbody></table><p class=\"note\" style=\"margin-left: 20px; font-size: 9pt; font-style: italic;\">Note: *** p<.001, ** p<.01, * p<.05</p>"
      ]
     },
     "metadata": {},
     "output_type": "display_data"
    }
   ],
   "execution_count": 18
  },
  {
   "cell_type": "markdown",
   "id": "summary",
   "metadata": {},
   "source": [
    "# Summary\n",
    "\n",
    "All analyses functions tested successfully:\n",
    "\n",
    "## Regression Module (`regress.py`)\n",
    "- OLS regression (unweighted and weighted)\n",
    "- Logistic regression\n",
    "- Poisson regression\n",
    "- Model comparison\n",
    "- Predictions\n",
    "- VIF diagnostics\n",
    "\n",
    "## Publication Tables Module (`pubtable.py`)\n",
    "- Proportion tables (one-way and cross-tabulation)\n",
    "- Weighted proportion tables\n",
    "- Descriptive statistics tables\n",
    "- Grouped descriptive statistics\n",
    "- Regression coefficient tables (single and multiple models)\n",
    "- Tables with confidence intervals and significance stars"
   ]
  }
 ],
 "metadata": {
  "kernelspec": {
   "display_name": "Python 3",
   "language": "python",
   "name": "python3"
  },
  "language_info": {
   "codemirror_mode": {
    "name": "ipython",
    "version": 3
   },
   "file_extension": ".py",
   "mimetype": "text/x-python",
   "name": "python",
   "nbconvert_exporter": "python",
   "pygments_lexer": "ipython3",
   "version": "3.13.5"
  }
 },
 "nbformat": 4,
 "nbformat_minor": 5
}
