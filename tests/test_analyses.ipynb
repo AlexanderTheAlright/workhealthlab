{
 "cells": [
  {
   "cell_type": "markdown",
   "metadata": {},
   "source": [
    "# \ud83e\uddea Analyses smoke tests\n",
    "Quick checks for the weighted analysis helpers."
   ]
  },
  {
   "cell_type": "code",
   "metadata": {
    "id": "analysis"
   },
   "execution_count": null,
   "outputs": [],
   "source": [
    "import numpy as np\n",
    "import pandas as pd\n",
    "\n",
    "from workhealthlab import analyses as wa\n",
    "\n",
    "rng = np.random.default_rng(42)\n",
    "df = pd.DataFrame({\n",
    "    'weight': rng.uniform(0.5, 2.0, size=60),\n",
    "    'satisfaction': rng.normal(3.5, 0.4, size=60),\n",
    "    'mastery': rng.normal(4.0, 0.3, size=60),\n",
    "    'team': rng.choice(list('ABC'), size=60)\n",
    "})\n",
    "\n",
    "summary = wa.weighted_summary(df, 'satisfaction', weight='weight')\n",
    "print(summary)\n",
    "\n",
    "crosstab = wa.weighted_crosstab(df, row='team', weight='weight')\n",
    "print(crosstab)\n",
    "\n",
    "try:\n",
    "    wa.weighted_regression(df, 'satisfaction ~ mastery', weight='weight')\n",
    "except ImportError as exc:\n",
    "    print('Expected ImportError:', exc)\n",
    "\n",
    "bar = wa.weighted_barplot(df, 'team', weight='weight', title='Weighted share by team')\n",
    "print(bar)\n"
   ]
  }
 ],
 "metadata": {
  "kernelspec": {
   "display_name": "Python 3",
   "language": "python",
   "name": "python3"
  },
  "language_info": {
   "codemirror_mode": {
    "name": "ipython",
    "version": 3
   },
   "file_extension": ".py",
   "mimetype": "text/x-python",
   "name": "python",
   "nbconvert_exporter": "python",
   "pygments_lexer": "ipython3",
   "version": "3.12.10"
  }
 },
 "nbformat": 4,
 "nbformat_minor": 5
}