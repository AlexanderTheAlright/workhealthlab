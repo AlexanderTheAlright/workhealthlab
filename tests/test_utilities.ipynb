{
 "cells": [
  {
   "cell_type": "markdown",
   "metadata": {},
   "source": [
    "# \ud83e\uddea Data utility smoke tests\n",
    "This notebook exercises the helper functions in `workhealthlab.data_utils`."
   ]
  },
  {
   "cell_type": "code",
   "metadata": {
    "id": "setup"
   },
   "execution_count": null,
   "outputs": [],
   "source": [
    "from pathlib import Path\n",
    "import shutil\n",
    "import pandas as pd\n",
    "import numpy as np\n",
    "\n",
    "from workhealthlab import data_utils as du\n",
    "\n",
    "# Create a temporary ANALYSIS/DATASETS structure with sample .dta files\n",
    "tmp_root = Path('tests/_tmp_utils')\n",
    "if tmp_root.exists():\n",
    "    shutil.rmtree(tmp_root)\n",
    "data_dir = tmp_root / 'ANALYSIS' / 'DATASETS'\n",
    "data_dir.mkdir(parents=True)\n",
    "\n",
    "df_alpha = pd.DataFrame({\n",
    "    'engagement': np.linspace(3.2, 4.1, 5),\n",
    "    'age': [25, 31, 42, 37, 29],\n",
    "    'tenure': [1, 3, 6, 4, 2]\n",
    "})\n",
    "df_beta = pd.DataFrame({\n",
    "    'resilience': np.linspace(2.4, 4.8, 6),\n",
    "    'age': [28, 33, 39, 45, 52, 60],\n",
    "    'team': ['A', 'B', 'A', 'C', 'B', 'C']\n",
    "})\n",
    "df_alpha.to_stata(data_dir / 'survey_alpha.dta', write_index=False)\n",
    "df_beta.to_stata(data_dir / 'survey_beta.dta', write_index=False)\n",
    "\n",
    "files = du.discover_dta_files(data_dir)\n",
    "print('Discovered files:', [f.name for f in files])\n",
    "\n",
    "summary = du.summarize_datasets(data_dir)\n",
    "print(summary[['dataset', 'size_MB']])\n",
    "\n",
    "loaded = du.load_dta(files[0])\n",
    "print('Loaded columns:', list(loaded.columns))\n",
    "\n",
    "matches = du.find_variable_across_datasets('engagement', data_dir)\n",
    "print('Matched datasets:', matches['dataset'].tolist())\n",
    "\n",
    "pipeline = du.discover_data(\n",
    "    data_dir=data_dir,\n",
    "    construct_names=['engagement'],\n",
    "    predictors=['age']\n",
    ")\n",
    "print('Pipeline results:', {k: v.shape for k, v in pipeline.items()})\n"
   ]
  }
 ],
 "metadata": {
  "kernelspec": {
   "display_name": "Python 3",
   "language": "python",
   "name": "python3"
  },
  "language_info": {
   "codemirror_mode": {
    "name": "ipython",
    "version": 3
   },
   "file_extension": ".py",
   "mimetype": "text/x-python",
   "name": "python",
   "nbconvert_exporter": "python",
   "pygments_lexer": "ipython3",
   "version": "3.12.10"
  }
 },
 "nbformat": 4,
 "nbformat_minor": 5
}