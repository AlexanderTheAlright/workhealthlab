{
 "cells": [
  {
   "metadata": {},
   "cell_type": "markdown",
   "source": [
    "# ───────────────────────────────────────────────────────────────────────────────\n",
    "# 🧪 WorkHealthLab Visualization Tests\n",
    "# ───────────────────────────────────────────────────────────────────────────────\n",
    "# This notebook tests all plotting functions defined in workhealthlab.plotting\n",
    "# ------------------------------------------------------------------------------"
   ],
   "id": "f3e9cdb3a492f372"
  },
  {
   "cell_type": "code",
   "execution_count": null,
   "id": "initial_id",
   "metadata": {
    "collapsed": true
   },
   "outputs": [],
   "source": [
    "# Usage:\n",
    "# - Run each cell sequentially to visualize and validate style compliance.\n",
    "# - Each function uses synthetic data constructed to demonstrate key features.\n",
    "\n",
    "import pandas as pd\n",
    "import numpy as np\n",
    "import matplotlib.pyplot as plt\n",
    "from workhealthlab import plotting as wh\n",
    "\n",
    "np.random.seed(42)\n",
    "plt.close(\"all\")\n"
   ]
  },
  {
   "metadata": {},
   "cell_type": "code",
   "outputs": [],
   "execution_count": null,
   "source": [
    "# ───────────────────────────────────────────────────────────────────────────────\n",
    "# Example DataFrames\n",
    "# ───────────────────────────────────────────────────────────────────────────────\n",
    "\n",
    "# Continuous numeric data for scatter, histogram, factor\n",
    "df_numeric = pd.DataFrame({\n",
    "    \"x\": np.random.randn(100) * 10 + 50,\n",
    "    \"y\": np.random.randn(100) * 5 + 20,\n",
    "    \"z\": np.random.randn(100) * 2 + 10\n",
    "})\n",
    "\n",
    "# Categorical + numeric for bar and waterfall\n",
    "df_categorical = pd.DataFrame({\n",
    "    \"category\": [\"Strongly Disagree\", \"Disagree\", \"Neutral\", \"Agree\", \"Strongly Agree\"],\n",
    "    \"value\": [1.8, 2.4, 3.0, 3.9, 4.5]\n",
    "})\n",
    "\n",
    "# Scatter with grouping variable\n",
    "df_scatter_grouped = pd.DataFrame({\n",
    "    \"x\": np.random.rand(120) * 100,\n",
    "    \"y\": np.random.rand(120) * 100,\n",
    "    \"group\": np.random.choice([\"Positive\", \"Neutral\", \"Negative\"], 120, p=[0.3, 0.4, 0.3])\n",
    "})\n",
    "\n",
    "# Mixed numeric for clustering / heatmap\n",
    "df_cluster = pd.DataFrame({\n",
    "    f\"var{i}\": np.random.randn(40) * i + 10 for i in range(1, 6)\n",
    "})"
   ],
   "id": "e1b90ff0f0fe1c33"
  },
  {
   "metadata": {},
   "cell_type": "code",
   "outputs": [],
   "execution_count": null,
   "source": [
    "# ───────────────────────────────────────────────────────────────────────────────\n",
    "# Scatter Plot Test\n",
    "# ───────────────────────────────────────────────────────────────────────────────\n",
    "fig, ax = wh.scatterplot(\n",
    "    df=df_scatter_grouped,\n",
    "    x=\"x\",\n",
    "    y=\"y\",\n",
    "    group=\"group\",\n",
    "    title=\"Scatter Plot Test\",\n",
    "    subtitle=\"Grouped points colored semantically\",\n",
    "    n=len(df_scatter_grouped)\n",
    ")\n",
    "plt.show()"
   ],
   "id": "c3e7324f0df2a6bf"
  },
  {
   "metadata": {},
   "cell_type": "code",
   "outputs": [],
   "execution_count": null,
   "source": [
    "# ───────────────────────────────────────────────────────────────────────────────\n",
    "# Bar Chart Test\n",
    "# ───────────────────────────────────────────────────────────────────────────────\n",
    "fig, ax = wh.barchart(\n",
    "    df=df_categorical,\n",
    "    x=\"category\",\n",
    "    y=\"value\",\n",
    "    title=\"Bar Chart Test\",\n",
    "    subtitle=\"Category-wise mean scores\",\n",
    "    n=len(df_categorical)\n",
    ")\n",
    "plt.show()\n"
   ],
   "id": "bc004e021cfc51e"
  },
  {
   "metadata": {},
   "cell_type": "code",
   "outputs": [],
   "execution_count": null,
   "source": [
    "# ───────────────────────────────────────────────────────────────────────────────\n",
    "# Histogram Test\n",
    "# ───────────────────────────────────────────────────────────────────────────────\n",
    "fig, ax = wh.histogram(\n",
    "    df=df_numeric,\n",
    "    x=\"x\",\n",
    "    bins=15,\n",
    "    title=\"Histogram Test\",\n",
    "    subtitle=\"Distribution of variable x\"\n",
    ")\n",
    "plt.show()"
   ],
   "id": "c62bfa683e2064cb"
  },
  {
   "metadata": {},
   "cell_type": "code",
   "outputs": [],
   "execution_count": null,
   "source": [
    "# ───────────────────────────────────────────────────────────────────────────────\n",
    "# Cluster Plot Test\n",
    "# ───────────────────────────────────────────────────────────────────────────────\n",
    "fig, ax = wh.clusterplot(\n",
    "    df=df_cluster,\n",
    "    title=\"Cluster Plot Test\",\n",
    "    subtitle=\"Hierarchical clustering using Ward linkage\"\n",
    ")\n",
    "plt.show()"
   ],
   "id": "1eb63b96845230d7"
  },
  {
   "metadata": {},
   "cell_type": "code",
   "outputs": [],
   "execution_count": null,
   "source": [
    "# ───────────────────────────────────────────────────────────────────────────────\n",
    "# Factor Analysis Test\n",
    "# ───────────────────────────────────────────────────────────────────────────────\n",
    "fig, ax = wh.factorplot(\n",
    "    df=df_cluster,\n",
    "    n_factors=2,\n",
    "    title=\"Factor Analysis Test\",\n",
    "    subtitle=\"Two-dimensional factor loading space\"\n",
    ")\n",
    "plt.show()"
   ],
   "id": "7e89b457317b4099"
  },
  {
   "metadata": {},
   "cell_type": "code",
   "outputs": [],
   "execution_count": null,
   "source": [
    "# ───────────────────────────────────────────────────────────────────────────────\n",
    "# Waterfall Chart Test\n",
    "# ───────────────────────────────────────────────────────────────────────────────\n",
    "fig, ax = wh.waterfallchart(\n",
    "    df=df_categorical,\n",
    "    x=\"category\",\n",
    "    y=\"value\",\n",
    "    title=\"Waterfall Chart Test\",\n",
    "    subtitle=\"Sequential change in agreement levels\"\n",
    ")\n",
    "plt.show()\n"
   ],
   "id": "5275d1aef422825"
  },
  {
   "metadata": {},
   "cell_type": "code",
   "outputs": [],
   "execution_count": null,
   "source": [
    "# ───────────────────────────────────────────────────────────────────────────────\n",
    "# Summary\n",
    "# ───────────────────────────────────────────────────────────────────────────────\n",
    "print(\"✅ All WorkHealthLab plotting functions executed successfully.\")"
   ],
   "id": "ea79cbf391423d55"
  }
 ],
 "metadata": {
  "kernelspec": {
   "display_name": "Python 3",
   "language": "python",
   "name": "python3"
  },
  "language_info": {
   "codemirror_mode": {
    "name": "ipython",
    "version": 2
   },
   "file_extension": ".py",
   "mimetype": "text/x-python",
   "name": "python",
   "nbconvert_exporter": "python",
   "pygments_lexer": "ipython2",
   "version": "2.7.6"
  }
 },
 "nbformat": 4,
 "nbformat_minor": 5
}
